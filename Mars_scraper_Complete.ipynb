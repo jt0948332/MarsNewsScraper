{
 "cells": [
  {
   "cell_type": "code",
   "execution_count": 1,
   "metadata": {},
   "outputs": [
    {
     "name": "stdout",
     "output_type": "stream",
     "text": [
      "https://www.jpl.nasa.gov/spaceimages/images/largesize/PIA09113_hires.jpg\n"
     ]
    },
    {
     "data": {
      "text/plain": [
       "{'news_title': 'For InSight, Dust Cleanings Will Yield New Science',\n",
       " 'news_paragraph': 'Wind can be crucial to clearing dust from spacecraft solar panels on Mars. With InSight\\'s meteorological sensors, scientists get their first measurements of wind and dust interacting \"live\" on the Martian surface.  ',\n",
       " 'featured_image': 'https://www.jpl.nasa.gov/spaceimages/images/largesize/PIA09113_hires.jpg',\n",
       " 'weather': 'InSight sol 158 (2019-05-07) low -99.7ºC (-147.5ºF) high -21.8ºC (-7.2ºF)\\nwinds from the SSE at 4.8 m/s (10.7 mph) gusting to 13.6 m/s (30.4 mph)\\npressure at 7.50 hPapic.twitter.com/8SrPjAhpGZ',\n",
       " 'mars_facts_table': '<table border=\"1\" class=\"dataframe\">  <thead>    <tr style=\"text-align: right;\">      <th></th>      <th>Measure</th>    </tr>    <tr>      <th>Category</th>      <th></th>    </tr>  </thead>  <tbody>    <tr>      <th>Equatorial Diameter:</th>      <td>6,792 km</td>    </tr>    <tr>      <th>Polar Diameter:</th>      <td>6,752 km</td>    </tr>    <tr>      <th>Mass:</th>      <td>6.42 x 10^23 kg (10.7% Earth)</td>    </tr>    <tr>      <th>Moons:</th>      <td>2 (Phobos &amp; Deimos)</td>    </tr>    <tr>      <th>Orbit Distance:</th>      <td>227,943,824 km (1.52 AU)</td>    </tr>    <tr>      <th>Orbit Period:</th>      <td>687 days (1.9 years)</td>    </tr>    <tr>      <th>Surface Temperature:</th>      <td>-153 to 20 °C</td>    </tr>    <tr>      <th>First Record:</th>      <td>2nd millennium BC</td>    </tr>    <tr>      <th>Recorded By:</th>      <td>Egyptian astronomers</td>    </tr>  </tbody></table>'}"
      ]
     },
     "execution_count": 1,
     "metadata": {},
     "output_type": "execute_result"
    }
   ],
   "source": [
    "#dependencies\n",
    "from bs4 import BeautifulSoup as bs\n",
    "import splinter\n",
    "import requests\n",
    "from splinter import Browser\n",
    "import time\n",
    "import pandas as pd\n",
    "from selenium import webdriver\n",
    "import os\n",
    "import pymongo\n",
    "import json\n",
    "\n",
    "#The dictionary\n",
    "mars_facts_data={}\n",
    "\n",
    "#1\n",
    "#emulate the browser and get the html\n",
    "executable_path = {'executable_path': 'C:/chromedriver/chromedriver.exe'}\n",
    "browser = Browser('chrome', **executable_path, headless=False)\n",
    "#url to visit\n",
    "url='https://mars.nasa.gov/news/'\n",
    "#we need to use the browser to visit the page because there are many elements that do not load until the page is loaded.\n",
    "#requests would only get the raw html.\n",
    "browser.visit(url)\n",
    "html = browser.html\n",
    "soup = bs(html, 'html.parser')\n",
    "news_p =soup.select_one(\"div.rollover_description_inner\")\n",
    "news_title = soup.select_one(\"div.content_title\")\n",
    "news_p = news_p.text\n",
    "news_title = news_title.text\n",
    "mars_facts_data['news_title'] = news_title\n",
    "mars_facts_data['news_paragraph'] = news_p\n",
    "\n",
    "#2\n",
    "executable_path = {'executable_path': 'C:/chromedriver/chromedriver.exe'}\n",
    "browser = Browser('chrome', **executable_path, headless=False)\n",
    "\n",
    "url = 'https://www.jpl.nasa.gov/spaceimages/?search=&category=Mars'\n",
    "\n",
    "browser.visit(url)\n",
    "\n",
    "browser.click_link_by_id('full_image')\n",
    "time.sleep(3)\n",
    "browser.click_link_by_partial_text('more info')\n",
    "time.sleep(3)\n",
    "\n",
    "time.sleep(3)\n",
    "browser.click_link_by_partial_href('/spaceimages/images/')\n",
    "#Download the image and Store\n",
    "response = requests.get(browser.url)\n",
    "if response.status_code == 200:\n",
    "    linkname= (browser.url.rsplit('/', 1)[-1])\n",
    "    SaveFile = (f'Resources/{linkname}')\n",
    "    with open(SaveFile, 'wb') as f:\n",
    "        f.write(response.content)\n",
    "print(browser.url)\n",
    "Space_image_dict = {}\n",
    "Space_image_dict['Url'] = browser.url\n",
    "mars_facts_data['featured_image'] = browser.url\n",
    "#collection.insert_one(Space_image_dict)\n",
    "\n",
    "#3\n",
    "mars_weather_dict = {}\n",
    "url='https://twitter.com/marswxreport?lang=en'\n",
    "response = requests.get(url)\n",
    "soup = bs(response.text, 'html.parser')\n",
    "mars_weather = soup.find('p', class_='TweetTextSize TweetTextSize--normal js-tweet-text tweet-text').text\n",
    "mars_weather =mars_weather.strip()\n",
    "mars_facts_data['weather'] = mars_weather\n",
    "mars_facts_data\n",
    "#collection.insert_one(mars_weather_dict)\n",
    "\n",
    "#4\n",
    "url = 'https://space-facts.com/mars/'\n",
    "df = pd.read_html(url)\n",
    "#df = pd.DataFrame(df)\n",
    "df= df[0]\n",
    "df.columns = ['Category', 'Measure']\n",
    "df.set_index('Category',inplace = True)\n",
    "mars_html_table = df.to_html()\n",
    "mars_html_table = mars_html_table.replace(\"\\n\",\"\")\n",
    "mars_facts_data['mars_facts_table'] = mars_html_table\n",
    "mars_facts_data"
   ]
  }
 ],
 "metadata": {
  "kernelspec": {
   "display_name": "Python 3",
   "language": "python",
   "name": "python3"
  },
  "language_info": {
   "codemirror_mode": {
    "name": "ipython",
    "version": 3
   },
   "file_extension": ".py",
   "mimetype": "text/x-python",
   "name": "python",
   "nbconvert_exporter": "python",
   "pygments_lexer": "ipython3",
   "version": "3.6.7"
  }
 },
 "nbformat": 4,
 "nbformat_minor": 2
}
